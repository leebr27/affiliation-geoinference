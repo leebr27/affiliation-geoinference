{
 "cells": [
  {
   "cell_type": "markdown",
   "metadata": {},
   "source": [
    "# Classifier Selection"
   ]
  },
  {
   "cell_type": "code",
   "execution_count": null,
   "metadata": {},
   "outputs": [],
   "source": [
    "import pandas as pd\n",
    "from sklearn import svm\n",
    "from sklearn.model_selection import train_test_split\n",
    "from sklearn.ensemble import RandomForestClassifier\n",
    "from sklearn.linear_model import LogisticRegression\n",
    "from sklearn.naive_bayes import MultinomialNB\n",
    "from sklearn.feature_extraction.text import TfidfVectorizer\n",
    "from sklearn.metrics import accuracy_score\n",
    "\n",
    "# Suppress \"SettingWithCopyWarning\"\n",
    "pd.options.mode.chained_assignment = None "
   ]
  },
  {
   "cell_type": "code",
   "execution_count": null,
   "metadata": {},
   "outputs": [],
   "source": [
    "clean_spacy_mapaffil = pd.read_parquet(\"data/clean_spacy_mapaffil.parquet\", engine=\"fastparquet\") "
   ]
  },
  {
   "cell_type": "code",
   "execution_count": null,
   "metadata": {},
   "outputs": [],
   "source": [
    "num_affiliations = 15000"
   ]
  },
  {
   "cell_type": "code",
   "execution_count": null,
   "metadata": {},
   "outputs": [],
   "source": [
    "df = clean_spacy_mapaffil.head(num_affiliations)\n",
    "city_counts = df['city'].value_counts()\n",
    "single_instance_cities = city_counts[city_counts == 1].index.tolist()\n",
    "num_affiliations -= len(single_instance_cities)\n",
    "filtered_df = df[~df['city'].isin(single_instance_cities)]"
   ]
  },
  {
   "cell_type": "code",
   "execution_count": null,
   "metadata": {},
   "outputs": [],
   "source": [
    "filtered_df['city'] = filtered_df['city'].astype('category')\n",
    "filtered_df['label'] = filtered_df['city'].cat.codes"
   ]
  },
  {
   "cell_type": "code",
   "execution_count": null,
   "metadata": {},
   "outputs": [],
   "source": [
    "calculated_test_size = (filtered_df['city'].nunique()) / num_affiliations\n",
    "X_train_texts, X_test_texts, y_train, y_test = train_test_split(filtered_df[\"affiliation\"], filtered_df[\"city\"], test_size=calculated_test_size if calculated_test_size > 0.1 else 0.1, stratify=filtered_df['label'], random_state=42)"
   ]
  },
  {
   "cell_type": "code",
   "execution_count": null,
   "metadata": {},
   "outputs": [],
   "source": [
    "tfidf_vectorizer = TfidfVectorizer(stop_words=\"english\", decode_error=\"ignore\")\n",
    "X_train_tfidf = tfidf_vectorizer.fit_transform(X_train_texts)\n",
    "X_test_tfidf = tfidf_vectorizer.transform(X_test_texts)"
   ]
  },
  {
   "cell_type": "code",
   "execution_count": null,
   "metadata": {},
   "outputs": [],
   "source": [
    "accuracy_data = []\n",
    "\n",
    "for classifier in (svm.LinearSVC(dual=True), RandomForestClassifier(), LogisticRegression(), MultinomialNB()): \n",
    "    classifier.fit(X_train_tfidf, y_train)    \n",
    "    y_pred = classifier.predict(X_test_tfidf)\n",
    "    accuracy_data.append([str(classifier), accuracy_score(y_test, y_pred), ])\n",
    "\n",
    "accuracy_results = pd.DataFrame(accuracy_data, columns=['Classifier', 'Accuracy'])\n",
    "\n",
    "display(accuracy_results)"
   ]
  }
 ],
 "metadata": {
  "kernelspec": {
   "display_name": "venv",
   "language": "python",
   "name": "python3"
  },
  "language_info": {
   "codemirror_mode": {
    "name": "ipython",
    "version": 3
   },
   "file_extension": ".py",
   "mimetype": "text/x-python",
   "name": "python",
   "nbconvert_exporter": "python",
   "pygments_lexer": "ipython3",
   "version": "3.9.6"
  }
 },
 "nbformat": 4,
 "nbformat_minor": 2
}
