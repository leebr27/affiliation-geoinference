{
 "cells": [
  {
   "attachments": {},
   "cell_type": "markdown",
   "metadata": {},
   "source": [
    "# Create mapaffil2018.csv.gz from original download"
   ]
  },
  {
   "attachments": {},
   "cell_type": "markdown",
   "metadata": {},
   "source": [
    "Download `mapaffil2018.tsv.gz` from https://databank.illinois.edu/datasets/IDB-2556310 and save to \"data\" folder"
   ]
  },
  {
   "cell_type": "code",
   "execution_count": 1,
   "metadata": {},
   "outputs": [],
   "source": [
    "import pandas as pd\n",
    "import csv\n",
    "import gzip"
   ]
  },
  {
   "cell_type": "code",
   "execution_count": 2,
   "metadata": {},
   "outputs": [
    {
     "name": "stderr",
     "output_type": "stream",
     "text": [
      "/var/folders/pq/k17j_hdn58jg4f3t7n7n3y0w0000gn/T/ipykernel_65271/3919963521.py:1: DtypeWarning: Columns (0,1,6) have mixed types. Specify dtype option on import or set low_memory=False.\n",
      "  df = pd.read_csv('/Users/brian/Documents/Geocode NLP/data/mapaffil2018.tsv.gz', compression='gzip', delimiter=\"\\t\", on_bad_lines='skip')\n"
     ]
    }
   ],
   "source": [
    "df = pd.read_csv('data/mapaffil2018.tsv.gz', compression='gzip', delimiter=\"\\t\", on_bad_lines='skip')"
   ]
  },
  {
   "cell_type": "code",
   "execution_count": 3,
   "metadata": {},
   "outputs": [],
   "source": [
    "df.to_csv(\"data/mapaffil2018.csv.gz\", index=False)"
   ]
  }
 ],
 "metadata": {
  "kernelspec": {
   "display_name": "venv",
   "language": "python",
   "name": "python3"
  },
  "language_info": {
   "codemirror_mode": {
    "name": "ipython",
    "version": 3
   },
   "file_extension": ".py",
   "mimetype": "text/x-python",
   "name": "python",
   "nbconvert_exporter": "python",
   "pygments_lexer": "ipython3",
   "version": "3.9.6"
  },
  "orig_nbformat": 4,
  "vscode": {
   "interpreter": {
    "hash": "55fdfd5d093c2ce20ed9f6f2d013c5552e6ed8c01f2229946e8d8e872bf621f8"
   }
  }
 },
 "nbformat": 4,
 "nbformat_minor": 2
}
