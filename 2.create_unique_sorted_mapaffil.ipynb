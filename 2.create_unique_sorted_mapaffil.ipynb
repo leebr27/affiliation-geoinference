{
 "cells": [
  {
   "attachments": {},
   "cell_type": "markdown",
   "metadata": {},
   "source": [
    "# Reduce MapAffil to unique affiliation strings sorted by occurence"
   ]
  },
  {
   "cell_type": "code",
   "execution_count": 1,
   "metadata": {},
   "outputs": [],
   "source": [
    "import pandas as pd"
   ]
  },
  {
   "cell_type": "code",
   "execution_count": 2,
   "metadata": {},
   "outputs": [
    {
     "name": "stderr",
     "output_type": "stream",
     "text": [
      "/var/folders/pq/k17j_hdn58jg4f3t7n7n3y0w0000gn/T/ipykernel_65982/752744969.py:1: DtypeWarning: Columns (0,1,6) have mixed types. Specify dtype option on import or set low_memory=False.\n",
      "  mapaffil = pd.read_csv(\"/Users/brian/Documents/Geocode NLP/data/mapaffil2018.csv.gz\", on_bad_lines='skip')\n"
     ]
    }
   ],
   "source": [
    "mapaffil = pd.read_csv(\"data/mapaffil2018.csv.gz\", on_bad_lines='skip') "
   ]
  },
  {
   "cell_type": "code",
   "execution_count": 3,
   "metadata": {},
   "outputs": [],
   "source": [
    "# Get the count of each affiliation and sort in descending order\n",
    "mapaffil_counts = mapaffil[\"affiliation\"].value_counts().sort_values(ascending=False)\n",
    "\n",
    "# Create a DataFrame with affiliation and count columns\n",
    "sorted_mapaffil = pd.DataFrame({\"affiliation\": mapaffil_counts.index, \"count\": mapaffil_counts})\n",
    "\n",
    "# Join the sorted DataFrame with the original mapaffil DataFrame on affiliation column\n",
    "sorted_mapaffil = sorted_mapaffil.merge(mapaffil, on=\"affiliation\")"
   ]
  },
  {
   "attachments": {},
   "cell_type": "markdown",
   "metadata": {},
   "source": [
    "Reduce Mapaffil to relevant columns and remove any duplicates"
   ]
  },
  {
   "cell_type": "code",
   "execution_count": 4,
   "metadata": {},
   "outputs": [],
   "source": [
    "sorted_mapaffil = sorted_mapaffil[['affiliation', 'city', 'state', 'country', 'lat', 'lon', 'count']]\n",
    "\n",
    "unique_sorted_mapaffil = sorted_mapaffil.drop_duplicates() # 20,326,273 unique affiliations out of 52,915,684 total authorships"
   ]
  },
  {
   "cell_type": "code",
   "execution_count": null,
   "metadata": {},
   "outputs": [],
   "source": [
    "unique_sorted_mapaffil.to_csv(\"data/mapaffil2018-unique_sorted.csv.gz\", index=False)"
   ]
  }
 ],
 "metadata": {
  "kernelspec": {
   "display_name": "venv",
   "language": "python",
   "name": "python3"
  },
  "language_info": {
   "codemirror_mode": {
    "name": "ipython",
    "version": 3
   },
   "file_extension": ".py",
   "mimetype": "text/x-python",
   "name": "python",
   "nbconvert_exporter": "python",
   "pygments_lexer": "ipython3",
   "version": "3.9.6"
  },
  "orig_nbformat": 4,
  "vscode": {
   "interpreter": {
    "hash": "55fdfd5d093c2ce20ed9f6f2d013c5552e6ed8c01f2229946e8d8e872bf621f8"
   }
  }
 },
 "nbformat": 4,
 "nbformat_minor": 2
}
