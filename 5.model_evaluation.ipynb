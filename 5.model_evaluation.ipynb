{
 "cells": [
  {
   "cell_type": "markdown",
   "metadata": {},
   "source": [
    "# Model Evaluation "
   ]
  },
  {
   "cell_type": "code",
   "execution_count": 1,
   "metadata": {},
   "outputs": [],
   "source": [
    "import pandas as pd\n",
    "import joblib\n",
    "from sklearn.metrics import accuracy_score, f1_score, recall_score, precision_score\n",
    "\n",
    "pd.set_option('display.max_columns', None)\n",
    "pd.set_option('display.max_rows', 100)\n",
    "pd.set_option('display.expand_frame_repr', False)\n",
    "pd.set_option('max_colwidth', 0)"
   ]
  },
  {
   "cell_type": "markdown",
   "metadata": {},
   "source": [
    "Load in clean training/test dataset"
   ]
  },
  {
   "cell_type": "code",
   "execution_count": 2,
   "metadata": {},
   "outputs": [],
   "source": [
    "clean_spacy_mapaffil = pd.read_parquet(\"data/clean_spacy_mapaffil.parquet\", engine=\"fastparquet\") "
   ]
  },
  {
   "cell_type": "markdown",
   "metadata": {},
   "source": [
    "Load in saved NLP model and text vectorizer"
   ]
  },
  {
   "cell_type": "code",
   "execution_count": 2,
   "metadata": {},
   "outputs": [],
   "source": [
    "loaded_model = joblib.load('geoinference_linearsvc_1mil.joblib.lzma')\n",
    "loaded_vectorizer = joblib.load('geoinference_vectorizer_1mil.joblib.lzma')"
   ]
  },
  {
   "cell_type": "markdown",
   "metadata": {},
   "source": [
    "Randomly select 100,000 affiliation texts and their respective city/state/country, assigining them to input and target variables"
   ]
  },
  {
   "cell_type": "code",
   "execution_count": 4,
   "metadata": {},
   "outputs": [],
   "source": [
    "test_sample = clean_spacy_mapaffil.sample(n=100000, random_state=42) \n",
    "X_test = list(test_sample['affiliation'])\n",
    "y_test = list(test_sample['city'])\n",
    "orgs = list(test_sample['org'])\n",
    "gpes = list(test_sample['gpe'])"
   ]
  },
  {
   "cell_type": "markdown",
   "metadata": {},
   "source": [
    "Transform the affiliation texts into numerical vectors"
   ]
  },
  {
   "cell_type": "code",
   "execution_count": 5,
   "metadata": {},
   "outputs": [],
   "source": [
    "features_test = loaded_vectorizer.transform(X_test)"
   ]
  },
  {
   "cell_type": "markdown",
   "metadata": {},
   "source": [
    "Generate model predictions on the 100,000 randomly sampled affiliations"
   ]
  },
  {
   "cell_type": "code",
   "execution_count": 6,
   "metadata": {},
   "outputs": [],
   "source": [
    "y_pred = loaded_model.predict(features_test)"
   ]
  },
  {
   "cell_type": "markdown",
   "metadata": {},
   "source": [
    "Output evaluation metrics, including overall accuracy, F1, recall, and precision"
   ]
  },
  {
   "cell_type": "code",
   "execution_count": 7,
   "metadata": {},
   "outputs": [
    {
     "name": "stdout",
     "output_type": "stream",
     "text": [
      "Accuracy:  95.59\n",
      "F1:  94.77\n",
      "Recall:  95.59\n",
      "Precision:  94.34\n"
     ]
    },
    {
     "name": "stderr",
     "output_type": "stream",
     "text": [
      "/Users/brian/Documents/Geocode NLP/venv/lib/python3.9/site-packages/sklearn/metrics/_classification.py:1469: UndefinedMetricWarning: Recall is ill-defined and being set to 0.0 in labels with no true samples. Use `zero_division` parameter to control this behavior.\n",
      "  _warn_prf(average, modifier, msg_start, len(result))\n",
      "/Users/brian/Documents/Geocode NLP/venv/lib/python3.9/site-packages/sklearn/metrics/_classification.py:1469: UndefinedMetricWarning: Precision is ill-defined and being set to 0.0 in labels with no predicted samples. Use `zero_division` parameter to control this behavior.\n",
      "  _warn_prf(average, modifier, msg_start, len(result))\n"
     ]
    }
   ],
   "source": [
    "print('Accuracy: ', \"%.2f\" % ((accuracy_score(y_test, y_pred))*100))\n",
    "print('F1: ', \"%.2f\" % ((f1_score(y_test, y_pred, average='weighted'))*100))\n",
    "print('Recall: ', \"%.2f\" % ((recall_score(y_test, y_pred, average='weighted'))*100))\n",
    "print('Precision: ', \"%.2f\" % ((precision_score(y_test, y_pred, average='weighted'))*100))"
   ]
  },
  {
   "cell_type": "markdown",
   "metadata": {},
   "source": [
    "Output model predictions "
   ]
  },
  {
   "cell_type": "code",
   "execution_count": null,
   "metadata": {},
   "outputs": [],
   "source": [
    "results_dict = {'affiliation': X_test, 'City Prediction': y_pred, 'True City': y_test, 'ORG': orgs, 'GPE': gpes}\n",
    "results_df = pd.DataFrame.from_dict(results_dict)\n",
    "display(results_df)"
   ]
  },
  {
   "cell_type": "markdown",
   "metadata": {},
   "source": [
    "Load in validation set of ambiguous affiliations that MapAffil was unable to assign a city to"
   ]
  },
  {
   "cell_type": "code",
   "execution_count": 8,
   "metadata": {},
   "outputs": [],
   "source": [
    "ambiguous_mapaffil_validation = pd.read_parquet(\"data/ambiguous_mapaffil_validation.parquet\", engine=\"fastparquet\")"
   ]
  },
  {
   "cell_type": "markdown",
   "metadata": {},
   "source": [
    "Randomly select 100 affiliation texts and transform them into numerical vectors"
   ]
  },
  {
   "cell_type": "code",
   "execution_count": 10,
   "metadata": {},
   "outputs": [],
   "source": [
    "ambiguous_mapaffil_validation = ambiguous_mapaffil_validation.sample(n=100, random_state=42)\n",
    "ambiguous_mapaffil_validation_X_test = list(ambiguous_mapaffil_validation['affiliation'])\n",
    "ambiguous_mapaffil_validation_features_test = loaded_vectorizer.transform(ambiguous_mapaffil_validation_X_test)"
   ]
  },
  {
   "cell_type": "markdown",
   "metadata": {},
   "source": [
    "Generate model predictions on the 100 randomly sampled affiliations"
   ]
  },
  {
   "cell_type": "code",
   "execution_count": 11,
   "metadata": {},
   "outputs": [],
   "source": [
    "ambiguous_mapaffil_validation_y_pred = loaded_model.predict(ambiguous_mapaffil_validation_features_test)"
   ]
  },
  {
   "cell_type": "markdown",
   "metadata": {},
   "source": [
    "Output model predictions "
   ]
  },
  {
   "cell_type": "code",
   "execution_count": null,
   "metadata": {},
   "outputs": [],
   "source": [
    "ambiguous_mapaffil_validation_results_dict = {'affiliation': ambiguous_mapaffil_validation_X_test, 'City Prediction': ambiguous_mapaffil_validation_y_pred, 'MapAffil Prediction': list(ambiguous_mapaffil_validation['city']), 'ORG': list(ambiguous_mapaffil_validation['org']), 'GPE': list(ambiguous_mapaffil_validation['gpe'])}\n",
    "ambiguous_mapaffil_validation_results_df = pd.DataFrame.from_dict(ambiguous_mapaffil_validation_results_dict)\n",
    "display(ambiguous_mapaffil_validation_results_df)"
   ]
  },
  {
   "cell_type": "markdown",
   "metadata": {},
   "source": [
    "Load in validation set of PubMed affiliations from papers published after December 2018"
   ]
  },
  {
   "cell_type": "code",
   "execution_count": 8,
   "metadata": {},
   "outputs": [],
   "source": [
    "post_2018_validation = pd.read_parquet(\"data/post_2018_validation.parquet\", engine=\"fastparquet\")"
   ]
  },
  {
   "cell_type": "markdown",
   "metadata": {},
   "source": [
    "Randomly select 100 affiliation texts and transform them into numerical vectors"
   ]
  },
  {
   "cell_type": "code",
   "execution_count": 9,
   "metadata": {},
   "outputs": [],
   "source": [
    "post_2018_validation = post_2018_validation.sample(n=100, random_state=42)\n",
    "post_2018_validation_X_test = list(post_2018_validation['Affiliation'])\n",
    "post_2018_validation_features_test = loaded_vectorizer.transform(post_2018_validation_X_test)"
   ]
  },
  {
   "cell_type": "markdown",
   "metadata": {},
   "source": [
    "Generate model predictions on the 100 randomly sampled affiliations"
   ]
  },
  {
   "cell_type": "code",
   "execution_count": 10,
   "metadata": {},
   "outputs": [],
   "source": [
    "post_2018_validation_y_pred = loaded_model.predict(post_2018_validation_features_test)"
   ]
  },
  {
   "cell_type": "markdown",
   "metadata": {},
   "source": [
    "Output model predictions"
   ]
  },
  {
   "cell_type": "code",
   "execution_count": null,
   "metadata": {},
   "outputs": [],
   "source": [
    "post_2018_validation_results_dict = {'Affiliation': post_2018_validation_X_test, 'City Prediction': post_2018_validation_y_pred}\n",
    "post_2018_validation_results_df = pd.DataFrame.from_dict(post_2018_validation_results_dict)\n",
    "display(post_2018_validation_results_df)"
   ]
  }
 ],
 "metadata": {
  "kernelspec": {
   "display_name": "venv",
   "language": "python",
   "name": "python3"
  },
  "language_info": {
   "codemirror_mode": {
    "name": "ipython",
    "version": 3
   },
   "file_extension": ".py",
   "mimetype": "text/x-python",
   "name": "python",
   "nbconvert_exporter": "python",
   "pygments_lexer": "ipython3",
   "version": "3.9.6"
  },
  "orig_nbformat": 4
 },
 "nbformat": 4,
 "nbformat_minor": 2
}
