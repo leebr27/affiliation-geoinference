{
 "cells": [
  {
   "attachments": {},
   "cell_type": "markdown",
   "metadata": {},
   "source": [
    "# Data Preparation"
   ]
  },
  {
   "cell_type": "code",
   "execution_count": 1,
   "metadata": {},
   "outputs": [],
   "source": [
    "import pandas as pd\n",
    "import gzip\n",
    "import gc"
   ]
  },
  {
   "cell_type": "markdown",
   "metadata": {},
   "source": [
    "Load in MapAffil 2018 dataset of authorships (dropped duplicate affiliation texts and sorted by frequency)"
   ]
  },
  {
   "cell_type": "code",
   "execution_count": 2,
   "metadata": {},
   "outputs": [],
   "source": [
    "columns_to_read = [\"affiliation\", \"city\", \"state\", \"country\"]\n",
    "\n",
    "data_types = {\n",
    "    \"affiliation\": str,\n",
    "    \"city\": str,\n",
    "    \"state\": str,\n",
    "    \"country\": str\n",
    "}\n",
    "\n",
    "unique_sorted_mapaffil = pd.read_csv(\"data/mapaffil2018-unique_sorted.csv.gz\", usecols=columns_to_read, dtype=data_types)"
   ]
  },
  {
   "cell_type": "markdown",
   "metadata": {},
   "source": [
    "Load in lists of spaCy outputs"
   ]
  },
  {
   "cell_type": "code",
   "execution_count": 3,
   "metadata": {},
   "outputs": [],
   "source": [
    "def read_lines(file_path):\n",
    "    with gzip.open(file_path, 'rt') as f:\n",
    "        for line in f:\n",
    "            yield line.strip()\n",
    "\n",
    "all_orgs = list(read_lines(\"data/mapaffil2018-unique_sorted-affiliation-orgs.txt.gz\"))\n",
    "all_gpes = list(read_lines(\"data/mapaffil2018-unique_sorted-affiliation-gpes.txt.gz\"))"
   ]
  },
  {
   "cell_type": "markdown",
   "metadata": {},
   "source": [
    "Locate all affiliations containing newlines and remove any extra spaCy outputs that were generated due to the newlines"
   ]
  },
  {
   "cell_type": "code",
   "execution_count": 4,
   "metadata": {},
   "outputs": [],
   "source": [
    "intervals = []\n",
    "\n",
    "for index in unique_sorted_mapaffil[unique_sorted_mapaffil[\"affiliation\"].str.contains('\\n')].index:\n",
    "    affiliation = unique_sorted_mapaffil.loc[index, \"affiliation\"]\n",
    "    newline_count = affiliation.count('\\n')\n",
    "    second_index = index+newline_count\n",
    "    intervals.append((index, second_index))\n",
    "\n",
    "intervals.sort(key=lambda x: x[0], reverse=True)\n",
    "\n",
    "for start, end in intervals:\n",
    "    del all_orgs[start:end]\n",
    "    del all_gpes[start:end]"
   ]
  },
  {
   "cell_type": "markdown",
   "metadata": {},
   "source": [
    "Remove departments/divisions from ORGs"
   ]
  },
  {
   "cell_type": "code",
   "execution_count": 5,
   "metadata": {},
   "outputs": [],
   "source": [
    "def remove_department_and_division(orgs):\n",
    "    if orgs != \"\":\n",
    "        orgs_list = orgs.split(\", \")\n",
    "        removed_orgs_list = [org for org in orgs_list if \"Department\" not in org and \"Division\" not in org]\n",
    "        return ', '.join(removed_orgs_list) or \"\"\n",
    "\n",
    "for idx, orgs in enumerate(all_orgs):\n",
    "    all_orgs[idx] = remove_department_and_division(orgs)"
   ]
  },
  {
   "cell_type": "markdown",
   "metadata": {},
   "source": [
    "Add the spaCy outputs for each affiliation text in the complete dataframe"
   ]
  },
  {
   "cell_type": "code",
   "execution_count": 6,
   "metadata": {},
   "outputs": [],
   "source": [
    "unique_sorted_mapaffil[\"org\"] = all_orgs\n",
    "unique_sorted_mapaffil[\"gpe\"] = all_gpes\n",
    "\n",
    "unique_sorted_mapaffil[\"org\"] = unique_sorted_mapaffil[\"org\"].fillna('') # convert null values to empty strings for ORG column in order for consistency with GPE column"
   ]
  },
  {
   "cell_type": "markdown",
   "metadata": {},
   "source": [
    "Remove affiliations with no spaCy detected ORGs nor GPEs, affiliations with no assigned country, affiliations containing \"FROM...\" prefix, affiliations containing newlines, affiliations with over 200 characters, and affiliations containing semicolons"
   ]
  },
  {
   "cell_type": "code",
   "execution_count": 7,
   "metadata": {},
   "outputs": [
    {
     "data": {
      "text/plain": [
       "23"
      ]
     },
     "execution_count": 7,
     "metadata": {},
     "output_type": "execute_result"
    }
   ],
   "source": [
    "mask = ((unique_sorted_mapaffil[\"org\"] == \"\") & (unique_sorted_mapaffil[\"gpe\"] == \"\")) | \\\n",
    "       (unique_sorted_mapaffil[\"country\"] == \"-\") | \\\n",
    "       (unique_sorted_mapaffil[\"affiliation\"].str.contains(\"FROMPMC\")) | \\\n",
    "       (unique_sorted_mapaffil[\"affiliation\"].str.contains(\"FROMNIH\")) | \\\n",
    "       (unique_sorted_mapaffil[\"affiliation\"].str.contains(\"FROMPAT\")) | \\\n",
    "       (unique_sorted_mapaffil[\"affiliation\"].str.contains(\"\\n\")) | \\\n",
    "       (unique_sorted_mapaffil['affiliation'].str.len() > 200) | \\\n",
    "       (unique_sorted_mapaffil[\"affiliation\"].str.contains(\";\"))\n",
    "\n",
    "unique_sorted_mapaffil.drop(unique_sorted_mapaffil.index[mask], inplace=True)\n",
    "\n",
    "# Free up memory \n",
    "del mask\n",
    "del all_orgs\n",
    "del all_gpes\n",
    "gc.collect()"
   ]
  },
  {
   "cell_type": "markdown",
   "metadata": {},
   "source": [
    "Create validation set of ambiguous affiliations that MapAffil was unable to assign a city to"
   ]
  },
  {
   "cell_type": "code",
   "execution_count": 8,
   "metadata": {},
   "outputs": [
    {
     "data": {
      "text/plain": [
       "140"
      ]
     },
     "execution_count": 8,
     "metadata": {},
     "output_type": "execute_result"
    }
   ],
   "source": [
    "unique_sorted_mapaffil[\"combined\"] = unique_sorted_mapaffil[\"state\"] + \", \" + unique_sorted_mapaffil[\"country\"] \n",
    "unique_sorted_mapaffil.query(\"(city == combined) | (city == country)\").to_parquet(\"data/ambiguous_mapaffil_validation.parquet\", compression=\"gzip\", engine=\"fastparquet\")\n",
    "\n",
    "gc.collect()"
   ]
  },
  {
   "cell_type": "markdown",
   "metadata": {},
   "source": [
    "Create validation set of PubMed affiliations from papers published after December 2018"
   ]
  },
  {
   "cell_type": "code",
   "execution_count": 7,
   "metadata": {},
   "outputs": [
    {
     "name": "stderr",
     "output_type": "stream",
     "text": [
      "/var/folders/pq/k17j_hdn58jg4f3t7n7n3y0w0000gn/T/ipykernel_79186/2747699042.py:1: DtypeWarning: Columns (7) have mixed types. Specify dtype option on import or set low_memory=False.\n",
      "  authorships = pd.read_csv(\"/Users/brian/Documents/Geocode NLP/data/authorships.csv.gz\")\n"
     ]
    },
    {
     "data": {
      "text/plain": [
       "79"
      ]
     },
     "execution_count": 7,
     "metadata": {},
     "output_type": "execute_result"
    }
   ],
   "source": [
    "authorships = pd.read_csv(\"data/authorships.csv.gz\")\n",
    "\n",
    "post_2018_authorships = authorships[authorships[\"PublicationYear\"] > 2018]\n",
    "post_2018_authorships.drop_duplicates(subset=\"Affiliation\").to_parquet(\"data/post_2018_validation.parquet\", compression=\"gzip\", engine=\"fastparquet\")\n",
    "\n",
    "del authorships\n",
    "del post_2018_authorships\n",
    "gc.collect()"
   ]
  },
  {
   "cell_type": "markdown",
   "metadata": {},
   "source": [
    "Finalize training dataset by removing the ambiguous MapAffil affiliations"
   ]
  },
  {
   "cell_type": "code",
   "execution_count": 10,
   "metadata": {},
   "outputs": [],
   "source": [
    "unique_sorted_mapaffil.query(\"(city != combined) & (city != country)\").to_parquet(\"data/clean_spacy_mapaffil.parquet\", compression=\"gzip\", engine=\"fastparquet\")"
   ]
  }
 ],
 "metadata": {
  "kernelspec": {
   "display_name": "venv",
   "language": "python",
   "name": "python3"
  },
  "language_info": {
   "codemirror_mode": {
    "name": "ipython",
    "version": 3
   },
   "file_extension": ".py",
   "mimetype": "text/x-python",
   "name": "python",
   "nbconvert_exporter": "python",
   "pygments_lexer": "ipython3",
   "version": "3.9.6"
  },
  "orig_nbformat": 4
 },
 "nbformat": 4,
 "nbformat_minor": 2
}
